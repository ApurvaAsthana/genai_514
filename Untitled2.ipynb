{
 "cells": [
  {
   "cell_type": "code",
   "execution_count": 15,
   "id": "2832ec55-3c02-404f-9cc0-f1ec2f103c9c",
   "metadata": {},
   "outputs": [
    {
     "name": "stdout",
     "output_type": "stream",
     "text": [
      "0\n",
      "1\n",
      "2\n",
      "3\n",
      "4\n"
     ]
    }
   ],
   "source": [
    "for i in range(5):\n",
    "    print(i)"
   ]
  },
  {
   "cell_type": "code",
   "execution_count": 31,
   "id": "ef42c7c3-79d7-41a8-907b-63b90bdf0d60",
   "metadata": {},
   "outputs": [
    {
     "name": "stdout",
     "output_type": "stream",
     "text": [
      "row=0\n",
      "\t0\n",
      "\t1\n",
      "\t2\n",
      "\t3\n",
      "\t4\n",
      "row=1\n",
      "\t0\n",
      "\t1\n",
      "\t2\n",
      "\t3\n",
      "row=2\n",
      "\t0\n",
      "\t1\n",
      "\t2\n",
      "row=3\n",
      "\t0\n",
      "\t1\n",
      "row=4\n",
      "\t0\n"
     ]
    }
   ],
   "source": [
    "for row in range(5):\n",
    "    print(f\"{row=}\")\n",
    "    for col in range(5-row):\n",
    "        print(f\"\\t{col}\")\n",
    "    "
   ]
  },
  {
   "cell_type": "code",
   "execution_count": 33,
   "id": "12085bfd-6952-43a9-b68f-1a118b6bc52d",
   "metadata": {},
   "outputs": [
    {
     "name": "stdout",
     "output_type": "stream",
     "text": [
      "Prints the values to a stream, or to sys.stdout by default.\n",
      "\n",
      "  sep\n",
      "    string inserted between values, default a space.\n",
      "  end\n",
      "    string appended after the last value, default a newline.\n",
      "  file\n",
      "    a file-like object (stream); defaults to the current sys.stdout.\n",
      "  flush\n",
      "    whether to forcibly flush the stream.\n"
     ]
    }
   ],
   "source": [
    "print(print.__doc__)"
   ]
  },
  {
   "cell_type": "code",
   "execution_count": 37,
   "id": "caec4613-5eec-42d3-8d78-8fcc14831045",
   "metadata": {},
   "outputs": [
    {
     "name": "stdout",
     "output_type": "stream",
     "text": [
      "row=0\n",
      "A\tB\tC\tD\tE\trow=1\n",
      "A\tB\tC\tD\trow=2\n",
      "A\tB\tC\trow=3\n",
      "A\tB\trow=4\n",
      "A\t"
     ]
    }
   ],
   "source": [
    "for row in range(5):\n",
    "    print(f\"{row=}\")\n",
    "    for col in range(5-row):\n",
    "        #print(f\"\\t{col}\")\n",
    "        print(chr(col+65), end='\\t')"
   ]
  },
  {
   "cell_type": "code",
   "execution_count": 45,
   "id": "7f749d94-3460-4c13-8ca1-9affd20fa45d",
   "metadata": {},
   "outputs": [
    {
     "name": "stdout",
     "output_type": "stream",
     "text": [
      "A\tB\tC\tD\tE\t\n",
      "A\tB\tC\tD\t\n",
      "A\tB\tC\t\n",
      "A\tB\t\n",
      "A\t\n"
     ]
    }
   ],
   "source": [
    "for row in range(5):\n",
    "    for col in range(5-row):\n",
    "        print(chr(col+65), end='\\t')\n",
    "    print()"
   ]
  },
  {
   "cell_type": "code",
   "execution_count": 3,
   "id": "8cdc3ea7-c16f-46b7-9749-fafa2e8e1c1d",
   "metadata": {},
   "outputs": [
    {
     "name": "stdout",
     "output_type": "stream",
     "text": [
      "E\tD\tC\tB\tA\t\n",
      "D\tC\tB\tA\t\n",
      "C\tB\tA\t\n",
      "B\tA\t\n",
      "A\t\n"
     ]
    }
   ],
   "source": [
    "for row in range(5):\n",
    "    for col in range(5-row):\n",
    "        print(chr(65+4-row-col), end='\\t')\n",
    "    print()"
   ]
  },
  {
   "cell_type": "code",
   "execution_count": 5,
   "id": "c6d6ccc9-c2e7-47dc-b9f7-59c686bd677e",
   "metadata": {},
   "outputs": [
    {
     "name": "stdout",
     "output_type": "stream",
     "text": [
      "A\tB\tC\tD\tE\t\n",
      "E\tD\tC\tB\tA\t\n",
      "A\tB\tC\tD\t\n",
      "D\tC\tB\tA\t\n",
      "A\tB\tC\t\n",
      "C\tB\tA\t\n",
      "A\tB\t\n",
      "B\tA\t\n",
      "A\t\n",
      "A\t\n"
     ]
    }
   ],
   "source": [
    "for row in range(5):\n",
    "    for col in range(5-row):\n",
    "        print(chr(col+65), end='\\t')\n",
    "    print()\n",
    "    for col in range(5-row):\n",
    "        print(chr(65+4-row-col), end='\\t')\n",
    "    print()"
   ]
  },
  {
   "cell_type": "code",
   "execution_count": 7,
   "id": "1468bcbd-ff83-4da2-8ab8-e8aa9dbae1b0",
   "metadata": {},
   "outputs": [
    {
     "name": "stdout",
     "output_type": "stream",
     "text": [
      "*/t\n",
      "*/t*/t*/t\n",
      "*/t*/t*/t*/t*/t\n",
      "*/t*/t*/t*/t*/t*/t*/t\n",
      "*/t*/t*/t*/t*/t*/t*/t*/t*/t\n"
     ]
    }
   ],
   "source": [
    "for row in range(5):\n",
    "    for col in range(2*row+1):\n",
    "        print('*', end='/t')\n",
    "    print()"
   ]
  },
  {
   "cell_type": "code",
   "execution_count": 25,
   "id": "18d38342-892f-428d-953c-d289ce3068e2",
   "metadata": {},
   "outputs": [
    {
     "name": "stdout",
     "output_type": "stream",
     "text": [
      "ABCDEDCBA\n",
      "ABCD*DCBA\n",
      "ABC***CBA\n",
      "AB*****BA\n",
      "A*******A\n"
     ]
    }
   ],
   "source": [
    "for row in range(5):\n",
    "    for col in range(5-row):\n",
    "        if col==4:\n",
    "            continue\n",
    "        print(chr(col+65), end='')\n",
    "    for col in range(2*row-1):\n",
    "        print('*', end='')\n",
    "    for col in range(5-row):\n",
    "        print(chr(65+4-row-col), end='')\n",
    "    print()"
   ]
  },
  {
   "cell_type": "code",
   "execution_count": null,
   "id": "869a2c91-70f3-43a7-be7b-ac761b19b1be",
   "metadata": {},
   "outputs": [],
   "source": []
  }
 ],
 "metadata": {
  "kernelspec": {
   "display_name": "Python 3 (ipykernel)",
   "language": "python",
   "name": "python3"
  },
  "language_info": {
   "codemirror_mode": {
    "name": "ipython",
    "version": 3
   },
   "file_extension": ".py",
   "mimetype": "text/x-python",
   "name": "python",
   "nbconvert_exporter": "python",
   "pygments_lexer": "ipython3",
   "version": "3.12.4"
  }
 },
 "nbformat": 4,
 "nbformat_minor": 5
}
